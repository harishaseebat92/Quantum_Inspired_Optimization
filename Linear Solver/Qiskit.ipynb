{
 "cells": [
  {
   "cell_type": "code",
   "execution_count": 245,
   "metadata": {},
   "outputs": [],
   "source": [
    "from qiskit import QuantumCircuit\n",
    "from qiskit.primitives import StatevectorSampler, StatevectorEstimator\n",
    "from qiskit.circuit import Parameter\n",
    "import numpy as np\n",
    "from qiskit.quantum_info import Pauli, SparsePauliOp, DensityMatrix\n",
    "from qiskit.circuit.library import RealAmplitudes\n",
    "from scipy.optimize import minimize\n",
    "from qiskit_aer import AerSimulator\n",
    "import matplotlib.pyplot as plt\n",
    "from qiskit.quantum_info import DensityMatrix, state_fidelity, Statevector\n",
    "from qiskit_algorithms.optimizers import GradientDescent\n"
   ]
  },
  {
   "cell_type": "code",
   "execution_count": 246,
   "metadata": {},
   "outputs": [],
   "source": [
    "# Define Estimator and sampler \n",
    "estimator = StatevectorEstimator()\n",
    "sampler = StatevectorSampler()\n",
    "\n"
   ]
  },
  {
   "cell_type": "code",
   "execution_count": 247,
   "metadata": {},
   "outputs": [],
   "source": [
    "\n",
    "\n",
    "# Define the number of qubits\n",
    "num_wires = 2\n",
    "# wires = list(range(num_wires))\n",
    "# np.random.seed(62213)\n",
    "\n",
    "# Generate random coefficients for the Pauli basis\n",
    "coefficients = np.random.randn(4**num_wires - 1)\n",
    "\n",
    "# Define the Pauli basis for the given number of qubits\n",
    "pauli_basis = []\n",
    "for i in range(1, 4**num_wires):  # Skip the identity (first element)\n",
    "    pauli_str = np.base_repr(i, base=4).zfill(num_wires)\n",
    "    pauli_str = pauli_str.replace('0', 'I').replace('1', 'X').replace('2', 'Y').replace('3', 'Z')\n",
    "    pauli_basis.append(pauli_str)\n",
    "\n",
    "# Construct the A matrix using SparsePauliOp\n",
    "A_matrix = SparsePauliOp(pauli_basis, coefficients)\n",
    "\n",
    "Q, R = np.linalg.qr(A_matrix)  # QR decomposition\n",
    "\n",
    "Q\n",
    "\n",
    "# Define the B vector\n",
    "B = np.array([0, 0, 0, 1])\n",
    "\n",
    "# # Compute the density matrix of B\n",
    "# rho_b = DensityMatrix.from_label('00')  # |00⟩ corresponds to [1, 0, 0, 0]\n",
    "\n",
    "# # Print results\n",
    "# print(\"A matrix (SparsePauliOp):\\n\", Q)\n",
    "# print(\"\\nDensity matrix of B:\\n\", rho_b)\n",
    "\n"
   ]
  },
  {
   "cell_type": "code",
   "execution_count": 248,
   "metadata": {},
   "outputs": [
    {
     "data": {
      "text/plain": [
       "array([0.00919705, 0.10147154, 0.66350177, 0.00506158, 0.16080805,\n",
       "       0.54873379, 0.6918952 , 0.65196126, 0.22426931, 0.71217922,\n",
       "       0.23724909, 0.3253997 , 0.74649141, 0.6496329 , 0.84922341])"
      ]
     },
     "execution_count": 248,
     "metadata": {},
     "output_type": "execute_result"
    }
   ],
   "source": [
    "init_param = np.random.rand(15)\n",
    "init_param"
   ]
  },
  {
   "cell_type": "code",
   "execution_count": 249,
   "metadata": {},
   "outputs": [
    {
     "data": {
      "image/png": "[encoded data removed]",
      "text/plain": [
       "<Figure size 831.22x284.278 with 1 Axes>"
      ]
     },
     "execution_count": 249,
     "metadata": {},
     "output_type": "execute_result"
    }
   ],
   "source": [
    "ansatz = RealAmplitudes(num_wires, reps=3)\n",
    "\n",
    "# define a quantum circuit with 2 qubits that takes A_matrix as a unitary operator and 01 as the initial state \n",
    "qc = QuantumCircuit(2)\n",
    "# qc.x(1)\n",
    "\n",
    "# add ansatz to the circuit\n",
    "qc.compose(ansatz, inplace=True)\n",
    "qc.unitary(Q, [0, 1], label='A')\n",
    "qc.measure_all()\n",
    "qc.draw('mpl')\n",
    "\n",
    "\n"
   ]
  },
  {
   "cell_type": "code",
   "execution_count": 250,
   "metadata": {},
   "outputs": [],
   "source": [
    "\n",
    "def cost_function(params):\n",
    "    # Bind parameters to the ansatz\n",
    "    job_sampler = sampler.run([(qc,params)], shots=1000)\n",
    "    result = job_sampler.result()\n",
    "    counts = result[0].data.meas.get_counts()\n",
    "    # Extract counts for each basis state in the order |00>, |01>, |10>, |11>\n",
    "    counts_ordered = [counts.get('00', 0), counts.get('01', 0), counts.get('10', 0), counts.get('11', 0)]\n",
    "\n",
    "    # Take the square root of each count\n",
    "    sqrt_counts = np.sqrt(counts_ordered)\n",
    "\n",
    "    # Normalize the statevector\n",
    "    normalization_factor = np.linalg.norm(sqrt_counts)\n",
    "    statevector = sqrt_counts / normalization_factor\n",
    "\n",
    "    X = DensityMatrix(statevector)  # Density matrix of |01⟩\n",
    "    # DensityMatrix()\n",
    "    # Compute the fidelity between X and rho_b\n",
    "    fidelity = 1- state_fidelity(statevector, B)\n",
    "    \n",
    "    # Return the cost as 1 - fidelity\n",
    "    return fidelity"
   ]
  },
  {
   "cell_type": "code",
   "execution_count": 251,
   "metadata": {},
   "outputs": [],
   "source": [
    "# Choose random initial parameters\n",
    "init_params = np.random.rand(ansatz.num_parameters)\n",
    "\n",
    "# Compute the cost\n",
    "# cost_value = cost_function(initial_params)\n",
    "# print(\"Initial parameters:\", initial_params)\n",
    "# print(\"Cost value:\", cost_value)"
   ]
  },
  {
   "cell_type": "code",
   "execution_count": 252,
   "metadata": {},
   "outputs": [
    {
     "data": {
      "text/plain": [
       "0.761"
      ]
     },
     "execution_count": 252,
     "metadata": {},
     "output_type": "execute_result"
    }
   ],
   "source": [
    "cost_function(init_params)"
   ]
  },
  {
   "cell_type": "code",
   "execution_count": 253,
   "metadata": {},
   "outputs": [
    {
     "name": "stdout",
     "output_type": "stream",
     "text": [
      "Optimization results:\n",
      "Optimal parameters: [1.67766982 0.98175073 0.33146019 1.42293836 0.19132197 0.1429377\n",
      " 2.00994191 1.43864228]\n",
      "Minimum cost value: 0.15900000000000003\n"
     ]
    }
   ],
   "source": [
    "n_iterations = 50000# Optimize using COBYLA\n",
    "result = minimize(\n",
    "    cost_function,  # Cost function to minimize\n",
    "    init_params,  # Initial parameters\n",
    "    method='COBYLA',  # Optimization method\n",
    "    options={'maxiter': n_iterations}  # Number of iterations\n",
    ")\n",
    "\n",
    "# Print the optimization results\n",
    "print(\"Optimization results:\")\n",
    "print(\"Optimal parameters:\", result.x)\n",
    "print(\"Minimum cost value:\", result.fun)\n",
    "\n",
    "\n",
    "# job_sampler = sampler.run([(qc,result.x)], shots=1000)\n",
    "# result = job_sampler.result()\n",
    "# counts = result[0].data.meas.get_counts()\n",
    "# counts"
   ]
  },
  {
   "cell_type": "code",
   "execution_count": 254,
   "metadata": {},
   "outputs": [],
   "source": [
    "def state(params):\n",
    "    # Bind parameters to the ansatz\n",
    "    job_sampler = sampler.run([(qc,params)], shots=1000)\n",
    "    result = job_sampler.result()\n",
    "    counts = result[0].data.meas.get_counts()\n",
    "    # Extract counts for each basis state in the order |00>, |01>, |10>, |11>\n",
    "    counts_ordered = [counts.get('00', 0), counts.get('01', 0), counts.get('10', 0), counts.get('11', 0)]\n",
    "\n",
    "    # Take the square root of each count\n",
    "    sqrt_counts = np.sqrt(counts_ordered)\n",
    "\n",
    "    # Normalize the statevector\n",
    "    normalization_factor = np.linalg.norm(sqrt_counts)\n",
    "    statevector = sqrt_counts / normalization_factor\n",
    "\n",
    "    return statevector"
   ]
  },
  {
   "cell_type": "code",
   "execution_count": 255,
   "metadata": {},
   "outputs": [
    {
     "data": {
      "text/plain": [
       "array([0.19493589, 0.15491933, 0.28809721, 0.9246621 ])"
      ]
     },
     "execution_count": 255,
     "metadata": {},
     "output_type": "execute_result"
    }
   ],
   "source": [
    "state(result.x)"
   ]
  }
 ],
 "metadata": {
  "kernelspec": {
   "display_name": "qiskit",
   "language": "python",
   "name": "python3"
  },
  "language_info": {
   "codemirror_mode": {
    "name": "ipython",
    "version": 3
   },
   "file_extension": ".py",
   "mimetype": "text/x-python",
   "name": "python",
   "nbconvert_exporter": "python",
   "pygments_lexer": "ipython3",
   "version": "3.12.2"
  }
 },
 "nbformat": 4,
 "nbformat_minor": 2
}
