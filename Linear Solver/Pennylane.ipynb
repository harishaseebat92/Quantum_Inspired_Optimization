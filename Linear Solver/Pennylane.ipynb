{
 "cells": [
  {
   "cell_type": "code",
   "execution_count": 1,
   "metadata": {},
   "outputs": [],
   "source": [
    "import pennylane as qml\n",
    "import numpy as np\n",
    "import jax\n",
    "jax.config.update(\"jax_enable_x64\", True)\n",
    "import jax.numpy as jnp\n",
    "import matplotlib.pyplot as plt\n",
    "\n"
   ]
  },
  {
   "cell_type": "code",
   "execution_count": 2,
   "metadata": {},
   "outputs": [],
   "source": [
    "num_wires = 2\n",
    "wires = list(range(num_wires))\n",
    "np.random.seed(62213)\n",
    "\n",
    "coefficients = np.random.randn(4**num_wires - 1)\n",
    "# Create the matrices for the entire Pauli basis\n",
    "basis = qml.ops.qubit.special_unitary.pauli_basis_matrices(num_wires)\n",
    "# Construct the Hamiltonian from the normal random coefficients and the basis\n",
    "A_matrix = qml.math.tensordot(coefficients, basis, axes=[[0], [0]])\n",
    "# Perform the QR decomposition\n",
    "Q, R = np.linalg.qr(A_matrix)  # QR decomposition\n",
    "\n",
    "Q\n",
    "\n",
    "B = np.array([1, 0, 0, 0])\n",
    "\n",
    "rho_b = qml.math.dm_from_state_vector(B)"
   ]
  },
  {
   "cell_type": "markdown",
   "metadata": {},
   "source": [
    "### Why A is Unitary and X, B are Quantum States\n",
    "\n",
    "- **Matrix A as Unitary**: Unitary matrices preserve the norm of quantum states and ensure reversible transformations.\n",
    "- **X and B as Quantum States**: $$X$$ and $$B$$ represent quantum states, which are vectors in a Hilbert space. The optimization seeks a solution state $$|X(\\theta)\\rangle$$ that approximates the target state $$|B\\rangle$$.\n"
   ]
  },
  {
   "cell_type": "code",
   "execution_count": 3,
   "metadata": {},
   "outputs": [
    {
     "data": {
      "text/plain": [
       "array([0.27802081, 0.19342159, 0.03529379, 0.697337  , 0.02911846,\n",
       "       0.45587612, 0.52262351, 0.85525314, 0.72094463, 0.85818196,\n",
       "       0.48358937, 0.34442212, 0.09149995, 0.59647456, 0.54765518])"
      ]
     },
     "execution_count": 3,
     "metadata": {},
     "output_type": "execute_result"
    }
   ],
   "source": [
    "init_param = np.random.rand(15)\n",
    "init_param"
   ]
  },
  {
   "cell_type": "markdown",
   "metadata": {},
   "source": [
    "### Mathematical Operations on the Circuit\n",
    "\n",
    "1. **Initial state**: The system starts in the state **|00>**.\n",
    "2. **Pauli-X gate**: The **X** gate flips the second qubit, transforming **|00>** to **|01>**.\n",
    "3. **SpecialUnitary gate**: This gate applies a unitary transformation with random parameters **params**, modifying the state.\n",
    "4. **QubitUnitary (Q)**: The **Q** gate applies a unitary operation **Q** to the state, further transforming it."
   ]
  },
  {
   "cell_type": "markdown",
   "metadata": {},
   "source": [
    "### Cost Function (Fidelity Between End State and B)\n",
    "\n",
    "The **cost function** is the negative fidelity between the final state and the target state **|00>**. Fidelity is a measure of similarity between two quantum states, defined as:\n",
    "$$\n",
    "F(\\rho, \\sigma) = |\\langle \\psi_{\\text{target}} | \\psi_{\\text{final}} \\rangle|^2\n",
    "$$\n",
    "The optimization process adjusts the parameters of the **SpecialUnitary** gate to maximize this fidelity, minimizing the cost (negative fidelity) to bring the final state closer to **|00>**.\n",
    "\n"
   ]
  },
  {
   "cell_type": "code",
   "execution_count": 4,
   "metadata": {},
   "outputs": [],
   "source": [
    "#initialize state 01 and then multiply special unitary(init_params) and then multiply A Unitary and output the state! \n",
    "dev = qml.device(\"default.qubit\", wires=num_wires)\n",
    "\n",
    "@qml.qnode(dev)\n",
    "def circuit(params):\n",
    "    # Step 0: Initialize state |01> by applying X gate on wire 1\n",
    "    qml.PauliX(wires=1)\n",
    "    qml.SpecialUnitary(params, wires=wires)\n",
    "    # apply Q unitary\n",
    "    qml.QubitUnitary(Q, wires=wires)\n",
    "    return qml.state()\n",
    "    \n",
    "\n",
    "# Define the cost function\n",
    "def cost_function(params):\n",
    "    X = qml.math.dm_from_state_vector(circuit(params))\n",
    "    # X_dag = np.matmul(A_matrix, X)\n",
    "    # rho_X_dag_A = qml.math.dm_from_state_vector(X_dag)\n",
    "    return 1- qml.math.fidelity(X, rho_b)"
   ]
  },
  {
   "cell_type": "code",
   "execution_count": 5,
   "metadata": {},
   "outputs": [],
   "source": [
    "# Optimization function using JAX\n",
    "def optimize(num_steps=500, learning_rate=0.01):\n",
    "    \"\"\"Optimize parameters using JAX differentiation.\"\"\"\n",
    "    num_steps = 500\n",
    "    grad_fn = jax.jit(jax.grad(cost_function))  # Compute gradient\n",
    "    params = init_param  # Ensure it's a JAX array\n",
    "    energies = []\n",
    "\n",
    "    for step in range(num_steps):\n",
    "        cost = cost_function(params)\n",
    "        grads = grad_fn(params)  # Compute gradients\n",
    "        \n",
    "        if step % 10 == 0:  # Print gradient values every 10 steps\n",
    "            print(f\"Iteration {step}: Fidelity = {-cost:.6f}\")        \n",
    "        params = params - learning_rate * grads  # Update parameters\n",
    "        energies.append(cost)\n",
    "    # Plot the energy evolution\n",
    "    plt.plot(range(num_steps), energies, label=\"Energy\")\n",
    "    plt.xlabel(\"Iteration\")\n",
    "    plt.ylabel(\"Cost Function Value\")\n",
    "    plt.title(\"Optimization Progress\")\n",
    "    plt.legend()\n",
    "    plt.show()\n",
    "    return params, energies"
   ]
  },
  {
   "cell_type": "code",
   "execution_count": 6,
   "metadata": {},
   "outputs": [
    {
     "name": "stderr",
     "output_type": "stream",
     "text": [
      "c:\\Users\\DELL\\anaconda3\\envs\\qiskit\\Lib\\site-packages\\jax\\_src\\lax\\lax.py:2745: ComplexWarning: Casting complex values to real discards the imaginary part\n",
      "  x_bar = _convert_element_type(x_bar, x.aval.dtype, x.aval.weak_type)\n"
     ]
    },
    {
     "name": "stdout",
     "output_type": "stream",
     "text": [
      "Iteration 0: Fidelity = -0.688684\n",
      "Iteration 10: Fidelity = -0.570238\n",
      "Iteration 20: Fidelity = -0.446303\n",
      "Iteration 30: Fidelity = -0.331821\n",
      "Iteration 40: Fidelity = -0.236813\n",
      "Iteration 50: Fidelity = -0.164133\n",
      "Iteration 60: Fidelity = -0.111578\n",
      "Iteration 70: Fidelity = -0.074936\n",
      "Iteration 80: Fidelity = -0.049962\n",
      "Iteration 90: Fidelity = -0.033173\n",
      "Iteration 100: Fidelity = -0.021979\n",
      "Iteration 110: Fidelity = -0.014550\n",
      "Iteration 120: Fidelity = -0.009632\n",
      "Iteration 130: Fidelity = -0.006379\n",
      "Iteration 140: Fidelity = -0.004229\n",
      "Iteration 150: Fidelity = -0.002806\n",
      "Iteration 160: Fidelity = -0.001864\n",
      "Iteration 170: Fidelity = -0.001240\n",
      "Iteration 180: Fidelity = -0.000826\n",
      "Iteration 190: Fidelity = -0.000551\n",
      "Iteration 200: Fidelity = -0.000369\n",
      "Iteration 210: Fidelity = -0.000247\n",
      "Iteration 220: Fidelity = -0.000165\n",
      "Iteration 230: Fidelity = -0.000111\n",
      "Iteration 240: Fidelity = -0.000075\n",
      "Iteration 250: Fidelity = -0.000050\n",
      "Iteration 260: Fidelity = -0.000034\n",
      "Iteration 270: Fidelity = -0.000023\n",
      "Iteration 280: Fidelity = -0.000016\n",
      "Iteration 290: Fidelity = -0.000011\n",
      "Iteration 300: Fidelity = -0.000007\n",
      "Iteration 310: Fidelity = -0.000005\n",
      "Iteration 320: Fidelity = -0.000003\n",
      "Iteration 330: Fidelity = -0.000002\n",
      "Iteration 340: Fidelity = -0.000002\n",
      "Iteration 350: Fidelity = -0.000001\n",
      "Iteration 360: Fidelity = -0.000001\n",
      "Iteration 370: Fidelity = -0.000001\n",
      "Iteration 380: Fidelity = -0.000000\n",
      "Iteration 390: Fidelity = -0.000000\n",
      "Iteration 400: Fidelity = -0.000000\n",
      "Iteration 410: Fidelity = -0.000000\n",
      "Iteration 420: Fidelity = -0.000000\n",
      "Iteration 430: Fidelity = -0.000000\n",
      "Iteration 440: Fidelity = -0.000000\n",
      "Iteration 450: Fidelity = -0.000000\n",
      "Iteration 460: Fidelity = -0.000000\n",
      "Iteration 470: Fidelity = -0.000000\n",
      "Iteration 480: Fidelity = -0.000000\n",
      "Iteration 490: Fidelity = -0.000000\n"
     ]
    },
    {
     "data": {
      "image/png": "[encoded data removed]",
      "text/plain": [
       "<Figure size 640x480 with 1 Axes>"
      ]
     },
     "metadata": {},
     "output_type": "display_data"
    }
   ],
   "source": [
    "opt_val = optimize(init_param)[0]"
   ]
  },
  {
   "cell_type": "code",
   "execution_count": 7,
   "metadata": {},
   "outputs": [
    {
     "data": {
      "text/plain": [
       "Array([ 0.9602-0.2794j, -0.    -0.j    ,  0.    +0.j    ,  0.    -0.j    ],      dtype=complex128)"
      ]
     },
     "execution_count": 7,
     "metadata": {},
     "output_type": "execute_result"
    }
   ],
   "source": [
    "x  = np.round(circuit(opt_val), 4)\n",
    "\n",
    "x"
   ]
  },
  {
   "cell_type": "markdown",
   "metadata": {},
   "source": []
  },
  {
   "cell_type": "code",
   "execution_count": 8,
   "metadata": {},
   "outputs": [],
   "source": [
    "from qiskit import QuantumCircuit"
   ]
  },
  {
   "cell_type": "code",
   "execution_count": 11,
   "metadata": {},
   "outputs": [
    {
     "ename": "SyntaxError",
     "evalue": "unexpected character after line continuation character (1711351322.py, line 1)",
     "output_type": "error",
     "traceback": [
      "\u001b[1;36m  Cell \u001b[1;32mIn[11], line 1\u001b[1;36m\u001b[0m\n\u001b[1;33m    \\psi = QuantumCircuit(2)\\𝐩𝐬𝐢\u001b[0m\n\u001b[1;37m     ^\u001b[0m\n\u001b[1;31mSyntaxError\u001b[0m\u001b[1;31m:\u001b[0m unexpected character after line continuation character\n"
     ]
    }
   ],
   "source": [
    "\\psi = QuantumCircuit(2)\\𝐩𝐬𝐢\n"
   ]
  },
  {
   "cell_type": "code",
   "execution_count": null,
   "metadata": {},
   "outputs": [],
   "source": [
    "\\"
   ]
  }
 ],
 "metadata": {
  "kernelspec": {
   "display_name": "qiskit",
   "language": "python",
   "name": "python3"
  },
  "language_info": {
   "codemirror_mode": {
    "name": "ipython",
    "version": 3
   },
   "file_extension": ".py",
   "mimetype": "text/x-python",
   "name": "python",
   "nbconvert_exporter": "python",
   "pygments_lexer": "ipython3",
   "version": "3.12.2"
  }
 },
 "nbformat": 4,
 "nbformat_minor": 2
}
